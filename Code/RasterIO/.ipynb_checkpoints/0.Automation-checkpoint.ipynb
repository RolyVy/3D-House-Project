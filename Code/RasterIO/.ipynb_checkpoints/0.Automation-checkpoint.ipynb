{
 "cells": [
  {
   "cell_type": "markdown",
   "metadata": {},
   "source": [
    "# 3D_Houses_Project"
   ]
  },
  {
   "cell_type": "markdown",
   "metadata": {},
   "source": [
    "### Brief presentation of the project :\n",
    "\n",
    "The objectif was to be able to build a program that is able to take in input a single home address and to return its 3D Model."
   ]
  },
  {
   "cell_type": "markdown",
   "metadata": {},
   "source": [
    "### Information concerning the data :\n",
    "\n",
    "The client had instructed us to use one specific set of data that you can find back here:\n",
    "* [DSM](http://www.geopunt.be/download?container=dhm-vlaanderen-ii-dsm-raster-1m&title=Digitaal%20Hoogtemodel%20Vlaanderen%20II,%20DSM,%20raster,%201m)\n",
    "\n",
    "* [DTM](http://www.geopunt.be/download?container=dhm-vlaanderen-ii-dtm-raster-1m&title=Digitaal%20Hoogtemodel%20Vlaanderen%20II,%20DTM,%20raster,%201m)\n",
    "\n",
    "The data (.TIFF files) is made out of Lidar cloud points, and is mapping the region of Flanders Belgium. \n",
    "Therefore "
   ]
  },
  {
   "cell_type": "markdown",
   "metadata": {},
   "source": [
    "### Work-flow\n",
    "\n",
    "* 1 / Import Libraries\n",
    "* 2 / Have a first adress input\n",
    "* 3 / Get the coordinates & the polygon/shape of the building\n",
    "* 4 / Find the appropriate files with the maps and data concerning the adress input\n",
    "* 5 / Open the appropiate files and crop it to the shape of the building\n",
    "* 6 / calculate a CHM for this specific building\n",
    "* 7 / Create and display the house in 3D\n"
   ]
  },
  {
   "cell_type": "markdown",
   "metadata": {},
   "source": [
    "### 1 / Import Libraries"
   ]
  },
  {
   "cell_type": "code",
   "execution_count": 1,
   "metadata": {},
   "outputs": [],
   "source": [
    "#First lets import the libraries we will need to make the program work\n",
    "\n",
    "import os\n",
    "import numpy as np\n",
    "import pandas as pd\n",
    "import matplotlib.pyplot as plt\n",
    "import rasterio as rio\n",
    "from rasterio.plot import show\n",
    "from rasterio.plot import show_hist\n",
    "from shapely.geometry import Polygon, mapping\n",
    "from rasterio.mask import mask\n",
    "import earthpy as et\n",
    "import earthpy.spatial as es\n",
    "import earthpy.plot as ep\n",
    "import geopandas as gpd\n",
    "import fiona\n",
    "\n",
    "from matplotlib.colors import ListedColormap\n",
    "import matplotlib.colors as colors\n",
    "\n",
    "import requests\n",
    "import json\n",
    "\n",
    "import plotly.graph_objects as go\n",
    "\n"
   ]
  },
  {
   "cell_type": "markdown",
   "metadata": {},
   "source": [
    "## Address Input"
   ]
  },
  {
   "cell_type": "code",
   "execution_count": 2,
   "metadata": {},
   "outputs": [],
   "source": [
    "# Here I thought about it as a user interface that the Tourism Office of Flanders could use for their visitor and/or inhabitants\n",
    "# The user enter an address in Flanders as first input"
   ]
  },
  {
   "cell_type": "code",
   "execution_count": 3,
   "metadata": {
    "scrolled": false
   },
   "outputs": [
    {
     "name": "stdout",
     "output_type": "stream",
     "text": [
      "Welcome in Flanders! \n",
      "Try out our new 3D House modeling program and visualize any building in Flanders!\n",
      "Just enter your address and press start!!!\n",
      "\n",
      "Please enter the folowing informations and get your 3D house model :\n"
     ]
    }
   ],
   "source": [
    "print('Welcome in Flanders! \\nTry out our new 3D House modeling program and visualize any building in Flanders!\\nJust enter your address and press start!!!\\n\\nPlease enter the folowing informations and get your 3D house model :')\n"
   ]
  },
  {
   "cell_type": "code",
   "execution_count": null,
   "metadata": {
    "scrolled": true
   },
   "outputs": [],
   "source": [
    "city_postcode=input('Postcode : ')"
   ]
  },
  {
   "cell_type": "code",
   "execution_count": null,
   "metadata": {},
   "outputs": [],
   "source": [
    "streetname=input('Streetname (in dutch please) : ')"
   ]
  },
  {
   "cell_type": "code",
   "execution_count": null,
   "metadata": {},
   "outputs": [],
   "source": [
    "house_number= input('The house number :')"
   ]
  },
  {
   "cell_type": "markdown",
   "metadata": {},
   "source": [
    "## House coordinates & Polygon"
   ]
  },
  {
   "cell_type": "markdown",
   "metadata": {},
   "source": [
    "To get the House coordinates & Polygon i used an API from the Flemish government that you can find more information about following this link : https://docs.basisregisters.vlaanderen.be/"
   ]
  },
  {
   "cell_type": "code",
   "execution_count": null,
   "metadata": {},
   "outputs": [],
   "source": [
    "# Using the address input data, to get first the coordinates and then the polygon of the house\n",
    "\n",
    "r = requests.get(\"https://api.basisregisters.vlaanderen.be/v1/adresmatch\", params={\"postcode\":city_postcode, \"straatnaam\":streetname, \"huisnummer\":house_number})\n",
    "json_test = json.loads(r.content)\n",
    "json_test"
   ]
  },
  {
   "cell_type": "code",
   "execution_count": null,
   "metadata": {},
   "outputs": [],
   "source": [
    "objectId = json_test['adresMatches'][0]['adresseerbareObjecten'][0]['objectId']"
   ]
  },
  {
   "cell_type": "code",
   "execution_count": null,
   "metadata": {},
   "outputs": [],
   "source": [
    "objectId"
   ]
  },
  {
   "cell_type": "code",
   "execution_count": null,
   "metadata": {},
   "outputs": [],
   "source": [
    "# Coordinates of the house (x,y)\n",
    "house_coordinates = json_test['adresMatches'][0]['adresPositie']['point']['coordinates']\n",
    "house_coordinates"
   ]
  },
  {
   "cell_type": "code",
   "execution_count": null,
   "metadata": {},
   "outputs": [],
   "source": [
    "# Coordinates of the X-axis\n",
    "x_house_coordinates = house_coordinates[0]"
   ]
  },
  {
   "cell_type": "code",
   "execution_count": null,
   "metadata": {},
   "outputs": [],
   "source": [
    "# Coordinates of the Y-axis\n",
    "y_house_coordinates = house_coordinates[1]"
   ]
  },
  {
   "cell_type": "code",
   "execution_count": null,
   "metadata": {},
   "outputs": [],
   "source": [
    "r = requests.get(f\"https://api.basisregisters.vlaanderen.be/v1/gebouweenheden/{objectId}\")\n",
    "json_test_gebouwheden = json.loads(r.content)\n",
    "json_test_gebouwheden"
   ]
  },
  {
   "cell_type": "code",
   "execution_count": null,
   "metadata": {},
   "outputs": [],
   "source": [
    "object_Id_gebouw = json_test_gebouwheden['gebouw']['objectId']\n",
    "object_Id_gebouw "
   ]
  },
  {
   "cell_type": "code",
   "execution_count": null,
   "metadata": {},
   "outputs": [],
   "source": [
    "r = requests.get(f\"https://api.basisregisters.vlaanderen.be/v1/gebouwen/{object_Id_gebouw }\")\n",
    "json_test_gebouw = json.loads(r.content)\n",
    "json_test_gebouw"
   ]
  },
  {
   "cell_type": "code",
   "execution_count": null,
   "metadata": {},
   "outputs": [],
   "source": [
    "#Getting the polygon shapes as a type Dict\n",
    "shapes = json_test_gebouw['geometriePolygoon'].get('polygon')"
   ]
  },
  {
   "cell_type": "markdown",
   "metadata": {},
   "source": [
    "## Choosing the adequat raster/.TIFF file"
   ]
  },
  {
   "cell_type": "code",
   "execution_count": null,
   "metadata": {},
   "outputs": [],
   "source": [
    "# house coordinates\n",
    "\n",
    "house_coordinates\n",
    "x_house_coordinates\n",
    "y_house_coordinates"
   ]
  },
  {
   "cell_type": "code",
   "execution_count": null,
   "metadata": {},
   "outputs": [],
   "source": [
    "#There is 43 different raster\n",
    "#First we need to get the raster boundaries \n",
    "#To do so we will use the shapefile (.shp) of each different raster\n",
    "\n",
    "df =pd.DataFrame(columns=['x1','y1','x2','y2','zone'])\n",
    "for i in range(1,2):\n",
    "    if i<10:\n",
    "        file ='/mnt/c/users/medimonster/documents/github/ant-theano-2-27/projects/data-3d-house/dsm/dsm_0'+str(i)+'/DHMVII_vdc_k0'+str(i)+'.shp'\n",
    "        #We open .shp files to get the raster boundaries\n",
    "        c= fiona.open(file)\n",
    "        x1=c.bounds[0]\n",
    "        y1=c.bounds[1]\n",
    "        x2=c.bounds[2]\n",
    "        y2=c.bounds[3]\n",
    "        bound=pd.DataFrame([[x1,y1,x2,y2,i]], columns=['x1','y1','x2','y2','zone'])\n",
    "        #create a dataframe to store these boundaries\n",
    "        df=pd.concat([df,bound])\n",
    "        \n",
    "    else:\n",
    "        file ='/mnt/c/users/medimonster/documents/github/ant-theano-2-27/projects/data-3d-house/dsm/dsm_'+str(i)+'/DHMVII_vdc_k'+str(i)+'.shp'\n",
    "        # We open .shp files to get the raster boundaries\n",
    "        c= fiona.open(file)\n",
    "        x1=c.bounds[0]\n",
    "        y1=c.bounds[1]\n",
    "        x2=c.bounds[2]\n",
    "        y2=c.bounds[3]\n",
    "        bound=pd.DataFrame([[x1,y1,x2,y2,i]], columns=['x1','y1','x2','y2','zone'])\n",
    "        #create a dataframe to store these boundaries\n",
    "        df=pd.concat([df,bound])\n",
    "\n",
    "\n",
    "# reset to sequential index\n",
    "df=df.reset_index(drop=True)\n"
   ]
  },
  {
   "cell_type": "code",
   "execution_count": null,
   "metadata": {},
   "outputs": [],
   "source": [
    "#choosing the raster using rasters boundaries and house coordinates\n",
    "zone_bounds=df[(df['x1'] < x_house_coordinates) & (df['x2'] > x_house_coordinates) & (df['y1'] < y_house_coordinates) & (df['y2'] > y_house_coordinates)]\n"
   ]
  },
  {
   "cell_type": "code",
   "execution_count": null,
   "metadata": {},
   "outputs": [],
   "source": [
    "zone_number=zone_bounds.zone.iloc[0]"
   ]
  },
  {
   "cell_type": "markdown",
   "metadata": {},
   "source": [
    "## Open TIFF files & Mask "
   ]
  },
  {
   "cell_type": "code",
   "execution_count": null,
   "metadata": {},
   "outputs": [],
   "source": [
    "# Opening of the adequate files \n",
    "# Masking using the shapes/Polygon of the house we got via the API\n",
    "#Masking allow us to have only the specific information we need for one house (and not the ALL map)\n",
    "\n",
    "#We will repeat this aswell for the DSM, aswell for the DTM\n",
    "#The objective is to be able to calculate the CHM (Canopy Height Model) (CHM = DSM - DTM)"
   ]
  },
  {
   "cell_type": "code",
   "execution_count": null,
   "metadata": {},
   "outputs": [],
   "source": [
    "#Here the condition if <10 is only to deal with the difference on how the filenames are written\n",
    "\n",
    "if zone_number < 10:\n",
    "    with rio.open('/mnt/c/users/medimonster/documents/github/ant-theano-2-27/projects/data-3d-house/dsm/dsm_0'+str(zone_number)+'/geotiff/DHMVIIDSMRAS1m_k0'+str(zone_number)+'.tif') as src:\n",
    "        out_image_DSM, out_transform = rio.mask.mask(src, [shapes], crop=True)\n",
    "        #out_meta =src.meta\n",
    "        DSM=out_image_DSM[0]\n",
    "    \n",
    "    with rio.open('/mnt/c/users/medimonster/documents/github/ant-theano-2-27/projects/data-3d-house/dtm/dtm_0'+str(zone_number)+'/geotiff/DHMVIIDTMRAS1m_k0'+str(zone_number)+'.tif') as src:\n",
    "        out_image_DTM, out_transform = rio.mask.mask(src, [shapes], crop=True)\n",
    "        #out_meta =src.meta\n",
    "        DTM=out_image_DTM[0]\n",
    "    \n",
    "    \n",
    "else:\n",
    "    with rio.open('/mnt/c/users/medimonster/documents/github/ant-theano-2-27/projects/data-3d-house/dsm/dsm_'+str(zone_number)+'/geotiff/DHMVIIDSMRAS1m_k'+str(zone_number)+'.tif') as src:\n",
    "        out_image_DSM, out_transform = rio.mask.mask(src, [shapes], crop=True)\n",
    "        #out_meta =src.meta\n",
    "        DSM=out_image_DSM[0]\n",
    "    \n",
    "    with rio.open('/mnt/c/users/medimonster/documents/github/ant-theano-2-27/projects/data-3d-house/dtm/dtm_'+str(zone_number)+'/geotiff/DHMVIIDTMRAS1m_k'+str(zone_number)+'.tif') as src:\n",
    "        out_image_DTM, out_transform = rio.mask.mask(src, [shapes], crop=True)\n",
    "        #out_meta =src.meta\n",
    "        DTM=out_image_DTM[0]"
   ]
  },
  {
   "cell_type": "markdown",
   "metadata": {},
   "source": [
    "## Creating the CHM"
   ]
  },
  {
   "cell_type": "code",
   "execution_count": 2,
   "metadata": {},
   "outputs": [
    {
     "ename": "NameError",
     "evalue": "name 'DSM' is not defined",
     "output_type": "error",
     "traceback": [
      "\u001b[0;31m---------------------------------------------------------------------------\u001b[0m",
      "\u001b[0;31mNameError\u001b[0m                                 Traceback (most recent call last)",
      "\u001b[0;32m<ipython-input-2-d81d0576c820>\u001b[0m in \u001b[0;36m<module>\u001b[0;34m\u001b[0m\n\u001b[1;32m      1\u001b[0m \u001b[0;31m# Calculating the CHM\u001b[0m\u001b[0;34m\u001b[0m\u001b[0;34m\u001b[0m\u001b[0;34m\u001b[0m\u001b[0m\n\u001b[0;32m----> 2\u001b[0;31m \u001b[0mout_image_CHM\u001b[0m\u001b[0;34m=\u001b[0m \u001b[0mDSM\u001b[0m \u001b[0;34m-\u001b[0m \u001b[0mDTM\u001b[0m\u001b[0;34m\u001b[0m\u001b[0;34m\u001b[0m\u001b[0m\n\u001b[0m",
      "\u001b[0;31mNameError\u001b[0m: name 'DSM' is not defined"
     ]
    }
   ],
   "source": [
    "# Calculating the CHM\n",
    "out_image_CHM= DSM - DTM"
   ]
  },
  {
   "cell_type": "markdown",
   "metadata": {},
   "source": [
    "## 2D Model"
   ]
  },
  {
   "cell_type": "code",
   "execution_count": null,
   "metadata": {},
   "outputs": [],
   "source": [
    "#The house plot in 2D, we can see the difference of height with the difference of colours in the image.\n",
    "\n",
    "ep.plot_bands(out_image_CHM,\n",
    "             cmap='terrain',\n",
    "              title='masked chm\\nk01')\n",
    "plt.show()"
   ]
  },
  {
   "cell_type": "markdown",
   "metadata": {},
   "source": [
    "## 3D House Model (with Plotly)"
   ]
  },
  {
   "cell_type": "code",
   "execution_count": null,
   "metadata": {},
   "outputs": [],
   "source": [
    "# Our final output the model of the house in 3 dimensions!\n",
    "\n",
    "fig = go.Figure(data=go.Surface(z=out_image_CHM))\n",
    "fig.show()"
   ]
  },
  {
   "cell_type": "markdown",
   "metadata": {},
   "source": [
    "## Reverse mirror image"
   ]
  },
  {
   "cell_type": "code",
   "execution_count": null,
   "metadata": {},
   "outputs": [],
   "source": [
    "# After looking on GoogleMap i could notice that the 3D models of the house were appearing as a mirror image of the real house\n",
    "# Therefore i add the second line to adjust it -- fig.update_scenes(yaxis_autorange=\"reversed\") --"
   ]
  },
  {
   "cell_type": "code",
   "execution_count": null,
   "metadata": {},
   "outputs": [],
   "source": [
    "fig = go.Figure(data=go.Surface(z=out_image_CHM))\n",
    "fig.update_scenes(yaxis_autorange=\"reversed\")\n",
    "fig.show()"
   ]
  },
  {
   "cell_type": "markdown",
   "metadata": {},
   "source": [
    "## Further development and possibilities for this project"
   ]
  },
  {
   "cell_type": "code",
   "execution_count": null,
   "metadata": {},
   "outputs": [],
   "source": [
    "# Add the nice-to-have features \n",
    "#Green areas\n",
    "#Area of the house\n",
    "#Pool\n",
    "\n",
    "#Use OOP to really make it in one click and have a nice interface \n",
    "#\"hidding\" the code and just using the pre programed function to launch the program\n"
   ]
  }
 ],
 "metadata": {
  "kernelspec": {
   "display_name": "Python 3",
   "language": "python",
   "name": "python3"
  },
  "language_info": {
   "codemirror_mode": {
    "name": "ipython",
    "version": 3
   },
   "file_extension": ".py",
   "mimetype": "text/x-python",
   "name": "python",
   "nbconvert_exporter": "python",
   "pygments_lexer": "ipython3",
   "version": "3.8.5"
  }
 },
 "nbformat": 4,
 "nbformat_minor": 5
}
