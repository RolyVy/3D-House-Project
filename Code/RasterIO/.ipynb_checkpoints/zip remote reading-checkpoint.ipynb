{
 "cells": [
  {
   "cell_type": "code",
   "execution_count": 3,
   "id": "ethical-haven",
   "metadata": {},
   "outputs": [
    {
     "ename": "SyntaxError",
     "evalue": "unexpected EOF while parsing (<ipython-input-3-653e14a554a4>, line 13)",
     "output_type": "error",
     "traceback": [
      "\u001b[0;36m  File \u001b[0;32m\"<ipython-input-3-653e14a554a4>\"\u001b[0;36m, line \u001b[0;32m13\u001b[0m\n\u001b[0;31m    # handle exception\u001b[0m\n\u001b[0m                      ^\u001b[0m\n\u001b[0;31mSyntaxError\u001b[0m\u001b[0;31m:\u001b[0m unexpected EOF while parsing\n"
     ]
    }
   ],
   "source": [
    "import urllib.request, io, zipfile\n",
    "\n",
    "try:\n",
    "    remotezip = urllib.request.urlopen(url)\n",
    "    zipinmemory = io.BytesIO(remotezip.read())\n",
    "    zip = zipfile.ZipFile(zipinmemory)\n",
    "    for fn in zip.namelist():\n",
    "        if fn.endswith(\".ranks\"):\n",
    "            ranks_data = zip.read(fn)\n",
    "            for line in ranks_data.split(\"\\n\"):\n",
    "                # do something with each line\n",
    "except urllib.request.HTTPError: \n",
    "    # handle exception"
   ]
  },
  {
   "cell_type": "code",
   "execution_count": null,
   "id": "directed-allergy",
   "metadata": {},
   "outputs": [],
   "source": []
  }
 ],
 "metadata": {
  "kernelspec": {
   "display_name": "Python 3",
   "language": "python",
   "name": "python3"
  },
  "language_info": {
   "codemirror_mode": {
    "name": "ipython",
    "version": 3
   },
   "file_extension": ".py",
   "mimetype": "text/x-python",
   "name": "python",
   "nbconvert_exporter": "python",
   "pygments_lexer": "ipython3",
   "version": "3.8.6"
  }
 },
 "nbformat": 4,
 "nbformat_minor": 5
}
