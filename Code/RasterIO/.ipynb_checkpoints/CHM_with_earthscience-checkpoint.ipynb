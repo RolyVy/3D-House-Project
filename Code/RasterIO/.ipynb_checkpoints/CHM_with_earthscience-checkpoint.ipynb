{
 "cells": [
  {
   "cell_type": "markdown",
   "id": "indirect-gamma",
   "metadata": {},
   "source": [
    "### Finding the CHM\n",
    "\n",
    "\n",
    "source : https://www.earthdatascience.org/workshops/gis-open-source-python/subtract-rasters-in-open-source-python/"
   ]
  },
  {
   "cell_type": "code",
   "execution_count": null,
   "id": "geological-evanescence",
   "metadata": {},
   "outputs": [],
   "source": []
  },
  {
   "cell_type": "code",
   "execution_count": null,
   "id": "spatial-channel",
   "metadata": {},
   "outputs": [],
   "source": [
    "import os\n",
    "import numpy as np\n",
    "import matplotlib.pyplot as plt\n",
    "import rasterio as rio\n",
    "from rasterio.plot import show\n",
    "from rasterio.plot import show_hist\n",
    "from shapely.geometry import Polygon, mapping\n",
    "from rasterio.mask import mask\n",
    "import earthpy as et\n",
    "import earthpy.spatial as es\n",
    "import earthpy.plot as ep\n",
    "\n",
    "from matplotlib.colors import ListedColormap\n",
    "import matplotlib.colors as colors\n",
    "\n",
    "# path to tif\n",
    "\n",
    " /mnt/c/users/medimonster/documents/github/ant-theano-2-27/Projects/3D-House\n",
    "\n",
    "# set home directory and download data\n",
    "et.data.get_data(\"spatial-vector-lidar\")\n",
    "os.chdir(os.path.join(et.io.HOME, 'earth-analytics'))"
   ]
  },
  {
   "cell_type": "code",
   "execution_count": null,
   "id": "ongoing-mailman",
   "metadata": {},
   "outputs": [],
   "source": [
    "# open the digital terrain model (DTM)\n",
    "sjer_dtm_path = \"data/spatial-vector-lidar/california/neon-soap-site/2013/lidar/SOAP_lidarDTM.tif\"\n",
    "\n",
    "with rio.open(sjer_dtm_path) as src:\n",
    "    lidar_dem_im = src.read(1, masked=True)\n",
    "    sjer_ext = rio.plot.plotting_extent(src)"
   ]
  },
  {
   "cell_type": "code",
   "execution_count": null,
   "id": "protective-titanium",
   "metadata": {},
   "outputs": [],
   "source": [
    "# open the digital surface model (DSM)\n",
    "sjer_dsm_path = \"data/spatial-vector-lidar/california/neon-soap-site/2013/lidar/SOAP_lidarDSM.tif\"\n",
    "\n",
    "with rio.open(sjer_dsm_path) as src:\n",
    "    lidar_dsm_im = src.read(1, masked=True)\n",
    "    dsm_meta = src.profile\n"
   ]
  },
  {
   "cell_type": "code",
   "execution_count": null,
   "id": "selective-preserve",
   "metadata": {},
   "outputs": [],
   "source": []
  },
  {
   "cell_type": "code",
   "execution_count": null,
   "id": "cross-spring",
   "metadata": {},
   "outputs": [],
   "source": [
    "lidar_dsm_im"
   ]
  },
  {
   "cell_type": "code",
   "execution_count": null,
   "id": "furnished-village",
   "metadata": {},
   "outputs": [],
   "source": []
  },
  {
   "cell_type": "code",
   "execution_count": null,
   "id": "institutional-healthcare",
   "metadata": {},
   "outputs": [],
   "source": [
    "# calculate canopy height model\n",
    "lidar_chm = lidar_dsm_im - lidar_dem_im"
   ]
  },
  {
   "cell_type": "code",
   "execution_count": null,
   "id": "circular-praise",
   "metadata": {},
   "outputs": [],
   "source": []
  },
  {
   "cell_type": "code",
   "execution_count": null,
   "id": "productive-yugoslavia",
   "metadata": {},
   "outputs": [],
   "source": [
    "ep.plot_bands(lidar_chm,\n",
    "              cmap='viridis',\n",
    "              title=\"Lidar Canopy Height Model (CHM)\\n Tree Height For Your Field Site From Remote Sensing Data!\")\n",
    "plt.show()"
   ]
  },
  {
   "cell_type": "code",
   "execution_count": null,
   "id": "cooperative-basement",
   "metadata": {},
   "outputs": [],
   "source": []
  },
  {
   "cell_type": "code",
   "execution_count": null,
   "id": "velvet-funds",
   "metadata": {},
   "outputs": [],
   "source": [
    "# view histogram of the data\n",
    "ep.hist(lidar_chm,\n",
    "        bins=100,\n",
    "        title=\"Distribution of Canopy Height Model Pixels\")\n",
    "plt.show()"
   ]
  }
 ],
 "metadata": {
  "kernelspec": {
   "display_name": "Python 3",
   "language": "python",
   "name": "python3"
  },
  "language_info": {
   "codemirror_mode": {
    "name": "ipython",
    "version": 3
   },
   "file_extension": ".py",
   "mimetype": "text/x-python",
   "name": "python",
   "nbconvert_exporter": "python",
   "pygments_lexer": "ipython3",
   "version": "3.8.6"
  }
 },
 "nbformat": 4,
 "nbformat_minor": 5
}
