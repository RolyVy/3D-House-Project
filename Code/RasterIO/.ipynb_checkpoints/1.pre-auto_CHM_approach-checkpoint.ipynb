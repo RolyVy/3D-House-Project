{
 "cells": [
  {
   "cell_type": "code",
   "execution_count": 1,
   "metadata": {},
   "outputs": [],
   "source": [
    "import os\n",
    "import numpy as np\n",
    "import pandas as pd\n",
    "import matplotlib.pyplot as plt\n",
    "import rasterio as rio\n",
    "from rasterio.plot import show\n",
    "from rasterio.plot import show_hist\n",
    "from shapely.geometry import Polygon, mapping\n",
    "from rasterio.mask import mask\n",
    "import earthpy as et\n",
    "import earthpy.spatial as es\n",
    "import earthpy.plot as ep\n",
    "import geopandas as gpd\n",
    "\n",
    "from matplotlib.colors import ListedColormap\n",
    "import matplotlib.colors as colors\n",
    "\n",
    "import requests\n",
    "import json\n",
    "\n",
    "import plotly.graph_objects as go\n",
    "import csv\n",
    "\n",
    "\n",
    "from mpl_toolkits.mplot3d import Axes3D\n"
   ]
  },
  {
   "cell_type": "code",
   "execution_count": 2,
   "metadata": {},
   "outputs": [],
   "source": [
    "#address : Smeyerspad 24, 2910 Essen\n",
    "\n"
   ]
  },
  {
   "cell_type": "code",
   "execution_count": 3,
   "metadata": {},
   "outputs": [
    {
     "data": {
      "text/plain": [
       "{'adresMatches': [{'identificator': {'id': 'https://data.vlaanderen.be/id/adres/1827335',\n",
       "    'naamruimte': 'https://data.vlaanderen.be/id/adres',\n",
       "    'objectId': '1827335',\n",
       "    'versieId': '2016-02-21T03:40:43+01:00'},\n",
       "   'detail': 'https://api.basisregisters.vlaanderen.be/v1/adressen/1827335',\n",
       "   'gemeente': {'objectId': '11016',\n",
       "    'detail': 'https://api.basisregisters.vlaanderen.be/v1/gemeenten/11016',\n",
       "    'gemeentenaam': {'geografischeNaam': {'spelling': 'Essen', 'taal': 'nl'}}},\n",
       "   'postinfo': {'objectId': '2910',\n",
       "    'detail': 'https://api.basisregisters.vlaanderen.be/v1/postinfo/2910'},\n",
       "   'straatnaam': {'objectId': '4816',\n",
       "    'detail': 'https://api.basisregisters.vlaanderen.be/v1/straatnamen/4816',\n",
       "    'straatnaam': {'geografischeNaam': {'spelling': 'Smeyerspad',\n",
       "      'taal': 'nl'}}},\n",
       "   'huisnummer': '24',\n",
       "   'volledigAdres': {'geografischeNaam': {'spelling': 'Smeyerspad 24, 2910 Essen',\n",
       "     'taal': 'nl'}},\n",
       "   'adresPositie': {'point': {'coordinates': [157225.86, 240038.18],\n",
       "     'type': 'Point'}},\n",
       "   'positieSpecificatie': 'gebouweenheid',\n",
       "   'positieGeometrieMethode': 'afgeleidVanObject',\n",
       "   'adresStatus': 'inGebruik',\n",
       "   'officieelToegekend': True,\n",
       "   'adresseerbareObjecten': [{'objectType': 'gebouweenheid',\n",
       "     'objectId': '8851836',\n",
       "     'detail': 'https://api.basisregisters.vlaanderen.be/v1/gebouweenheden/8851836'},\n",
       "    {'objectType': 'perceel',\n",
       "     'objectId': '11016A0226-00D000',\n",
       "     'detail': 'https://api.basisregisters.vlaanderen.be/v1/percelen/11016A0226-00D000'}],\n",
       "   'score': 100.0}],\n",
       " 'warnings': []}"
      ]
     },
     "execution_count": 3,
     "metadata": {},
     "output_type": "execute_result"
    }
   ],
   "source": [
    "r = requests.get(\"https://api.basisregisters.vlaanderen.be/v1/adresmatch\", params={\"postcode\":2910, \"straatnaam\":\"Smeyerspad\", \"huisnummer\":24 })\n",
    "json_test = json.loads(r.content)\n",
    "json_test"
   ]
  },
  {
   "cell_type": "code",
   "execution_count": 4,
   "metadata": {},
   "outputs": [
    {
     "data": {
      "text/plain": [
       "{'identificator': {'id': 'https://data.vlaanderen.be/id/gebouweenheid/8851836',\n",
       "  'naamruimte': 'https://data.vlaanderen.be/id/gebouweenheid',\n",
       "  'objectId': '8851836',\n",
       "  'versieId': '2016-02-21T03:40:43+01:00'},\n",
       " 'geometriePunt': {'point': {'coordinates': [157225.86, 240038.18],\n",
       "   'type': 'Point'}},\n",
       " 'positieGeometrieMethode': 'afgeleidVanObject',\n",
       " 'gebouweenheidStatus': 'gerealiseerd',\n",
       " 'functie': 'nietGekend',\n",
       " 'gebouw': {'objectId': '8850990',\n",
       "  'detail': 'https://api.basisregisters.vlaanderen.be/v1/gebouwen/8850990'},\n",
       " 'adressen': [{'objectId': '1827335',\n",
       "   'detail': 'https://api.basisregisters.vlaanderen.be/v1/adressen/1827335'}]}"
      ]
     },
     "execution_count": 4,
     "metadata": {},
     "output_type": "execute_result"
    }
   ],
   "source": [
    "r = requests.get(\"https://api.basisregisters.vlaanderen.be/v1/gebouweenheden/8851836\")\n",
    "json_test_gebouwheden = json.loads(r.content)\n",
    "json_test_gebouwheden\n",
    "                 \n"
   ]
  },
  {
   "cell_type": "code",
   "execution_count": 5,
   "metadata": {},
   "outputs": [
    {
     "data": {
      "text/plain": [
       "{'identificator': {'id': 'https://data.vlaanderen.be/id/gebouw/8850990',\n",
       "  'naamruimte': 'https://data.vlaanderen.be/id/gebouw',\n",
       "  'objectId': '8850990',\n",
       "  'versieId': '2018-05-04T03:58:53+02:00'},\n",
       " 'geometriePolygoon': {'polygon': {'coordinates': [[[157224.9303842485,\n",
       "      240029.08170451596],\n",
       "     [157230.8570402488, 240032.49559251592],\n",
       "     [157229.4970402494, 240034.88868051767],\n",
       "     [157232.97518425435, 240036.97047252208],\n",
       "     [157227.28545624763, 240046.709736526],\n",
       "     [157218.33659224212, 240041.4553365223],\n",
       "     [157223.59560024738, 240032.38320851699],\n",
       "     [157223.10350424796, 240032.07428051904],\n",
       "     [157224.04123224318, 240030.5381525159],\n",
       "     [157224.9303842485, 240029.08170451596]]],\n",
       "   'type': 'Polygon'}},\n",
       " 'geometrieMethode': 'ingemetenGRB',\n",
       " 'gebouwStatus': 'gerealiseerd',\n",
       " 'gebouweenheden': [{'objectId': '8851836',\n",
       "   'detail': 'https://api.basisregisters.vlaanderen.be/v1/gebouweenheden/8851836'}],\n",
       " 'percelen': [{'objectId': '11016A0226-00D000',\n",
       "   'detail': 'https://api.basisregisters.vlaanderen.be/v1/percelen/11016A0226-00D000'}]}"
      ]
     },
     "execution_count": 5,
     "metadata": {},
     "output_type": "execute_result"
    }
   ],
   "source": [
    "r = requests.get(\"https://api.basisregisters.vlaanderen.be/v1/gebouwen/8850990\")\n",
    "json_test_gebouw = json.loads(r.content)\n",
    "json_test_gebouw"
   ]
  },
  {
   "cell_type": "code",
   "execution_count": 6,
   "metadata": {},
   "outputs": [],
   "source": [
    "#get coordinates of the address\n",
    "shape = json_test_gebouw['geometriePolygoon']['polygon']['coordinates'][0]"
   ]
  },
  {
   "cell_type": "code",
   "execution_count": 7,
   "metadata": {},
   "outputs": [
    {
     "data": {
      "text/plain": [
       "[[157224.9303842485, 240029.08170451596],\n",
       " [157230.8570402488, 240032.49559251592],\n",
       " [157229.4970402494, 240034.88868051767],\n",
       " [157232.97518425435, 240036.97047252208],\n",
       " [157227.28545624763, 240046.709736526],\n",
       " [157218.33659224212, 240041.4553365223],\n",
       " [157223.59560024738, 240032.38320851699],\n",
       " [157223.10350424796, 240032.07428051904],\n",
       " [157224.04123224318, 240030.5381525159],\n",
       " [157224.9303842485, 240029.08170451596]]"
      ]
     },
     "execution_count": 7,
     "metadata": {},
     "output_type": "execute_result"
    }
   ],
   "source": [
    "shape"
   ]
  },
  {
   "cell_type": "code",
   "execution_count": 8,
   "metadata": {},
   "outputs": [
    {
     "data": {
      "text/plain": [
       "list"
      ]
     },
     "execution_count": 8,
     "metadata": {},
     "output_type": "execute_result"
    }
   ],
   "source": [
    "type(shape)"
   ]
  },
  {
   "cell_type": "code",
   "execution_count": 9,
   "metadata": {},
   "outputs": [],
   "source": [
    "x_coordinates=[]\n",
    "y_coordinates=[]\n",
    "for i in shape:\n",
    "    x_coordinates.append(i[0])\n",
    "    y_coordinates.append(i[1])\n",
    "\n",
    "polygon = Polygon(zip(x_coordinates, y_coordinates))\n",
    "polygon_2 = gpd.GeoDataFrame(index=[0], geometry=[polygon])\n",
    "\n",
    "shapes=polygon_2.geometry\n"
   ]
  },
  {
   "cell_type": "code",
   "execution_count": 10,
   "metadata": {},
   "outputs": [
    {
     "data": {
      "text/plain": [
       "0    POLYGON ((157224.930 240029.082, 157230.857 24...\n",
       "Name: geometry, dtype: geometry"
      ]
     },
     "execution_count": 10,
     "metadata": {},
     "output_type": "execute_result"
    }
   ],
   "source": [
    "shapes"
   ]
  },
  {
   "cell_type": "code",
   "execution_count": 11,
   "metadata": {},
   "outputs": [],
   "source": [
    "with rio.open('/mnt/c/users/medimonster/documents/github/ant-theano-2-27/projects/data-3d-house/CHM/lidar_chm2.tiff') as src:\n",
    "    out_image_CHM, out_transform = rio.mask.mask(src, shapes, crop=True)\n"
   ]
  },
  {
   "cell_type": "code",
   "execution_count": 12,
   "metadata": {},
   "outputs": [
    {
     "data": {
      "image/png": "[encoded data removed]",
      "text/plain": [
       "<Figure size 864x864 with 2 Axes>"
      ]
     },
     "metadata": {
      "needs_background": "light"
     },
     "output_type": "display_data"
    }
   ],
   "source": [
    "ep.plot_bands(out_image_CHM,\n",
    "             cmap='terrain',\n",
    "              title='masked chm\\nk01')\n",
    "plt.show()"
   ]
  },
  {
   "cell_type": "code",
   "execution_count": 14,
   "metadata": {},
   "outputs": [
    {
     "data": {
      "text/plain": [
       "array([[-9.9990000e+03, -9.9990000e+03, -9.9990000e+03, -9.9990000e+03,\n",
       "        -9.9990000e+03, -9.9990000e+03, -9.9990000e+03, -9.9990000e+03,\n",
       "        -9.9990000e+03, -9.9990000e+03, -9.9990000e+03, -9.9990000e+03,\n",
       "        -9.9990000e+03, -9.9990000e+03, -9.9990000e+03],\n",
       "       [-9.9990000e+03, -9.9990000e+03, -9.9990000e+03, -9.9990000e+03,\n",
       "        -9.9990000e+03, -9.9990000e+03, -9.9990000e+03,  2.2299995e+00,\n",
       "         3.7100000e+00,  4.1900005e+00, -9.9990000e+03, -9.9990000e+03,\n",
       "        -9.9990000e+03, -9.9990000e+03, -9.9990000e+03],\n",
       "       [-9.9990000e+03, -9.9990000e+03, -9.9990000e+03, -9.9990000e+03,\n",
       "        -9.9990000e+03, -9.9990000e+03,  3.5400000e+00,  4.0199995e+00,\n",
       "         4.5500002e+00,  5.0400009e+00,  0.0000000e+00, -9.9990000e+03,\n",
       "        -9.9990000e+03, -9.9990000e+03, -9.9990000e+03],\n",
       "       [-9.9990000e+03, -9.9990000e+03, -9.9990000e+03, -9.9990000e+03,\n",
       "         3.1699991e+00,  5.3568115e+00,  4.3618431e+00,  4.8900003e+00,\n",
       "         5.4099998e+00,  5.9300003e+00,  6.3999996e+00, -9.9990000e+03,\n",
       "        -9.9990000e+03, -9.9990000e+03, -9.9990000e+03],\n",
       "       [-9.9990000e+03, -9.9990000e+03,  5.0000000e-01,  3.7199993e+00,\n",
       "         5.5828075e+00,  6.1290569e+00,  5.2264080e+00,  5.7196589e+00,\n",
       "         6.2547817e+00,  6.7676964e+00,  7.2755413e+00,  6.8500004e+00,\n",
       "        -9.9990000e+03, -9.9990000e+03, -9.9990000e+03],\n",
       "       [ 1.1600008e+00,  3.4200001e+00,  3.9799995e+00,  4.5599995e+00,\n",
       "         5.0604591e+00,  5.9691687e+00,  6.0986490e+00,  6.5961971e+00,\n",
       "         7.1515846e+00,  7.6067438e+00,  8.1005630e+00,  8.4688148e+00,\n",
       "        -9.9990000e+03, -9.9990000e+03, -9.9990000e+03],\n",
       "       [-9.9990000e+03,  4.3000002e+00,  4.8599997e+00,  5.4200001e+00,\n",
       "         5.9269905e+00,  6.3939037e+00,  6.9337196e+00,  7.4561605e+00,\n",
       "         7.9597387e+00,  8.4793444e+00,  8.1075010e+00,  7.7888956e+00,\n",
       "         1.2100000e+00, -9.9990000e+03, -9.9990000e+03],\n",
       "       [-9.9990000e+03,  5.2000008e+00,  5.7500010e+00,  6.2457609e+00,\n",
       "         6.7553844e+00,  7.2745485e+00,  7.7929363e+00,  8.3400764e+00,\n",
       "         8.2677059e+00,  7.9465237e+00,  7.3718395e+00,  6.9324408e+00,\n",
       "         6.2599993e+00, -9.9990000e+03, -9.9990000e+03],\n",
       "       [-9.9990000e+03, -9.9990000e+03,  6.6099987e+00,  7.1163826e+00,\n",
       "         7.6069851e+00,  8.1549997e+00,  8.4591084e+00,  8.0306520e+00,\n",
       "         7.5533428e+00,  7.0801449e+00,  6.4367218e+00,  5.8777094e+00,\n",
       "         5.3800001e+00,  4.9400005e+00, -9.9990000e+03],\n",
       "       [-9.9990000e+03, -9.9990000e+03, -9.9990000e+03,  7.9827919e+00,\n",
       "         8.4928017e+00,  8.0578709e+00,  7.7515450e+00,  7.2481661e+00,\n",
       "         6.7366514e+00,  6.0113955e+00,  5.5085402e+00,  4.9988461e+00,\n",
       "         4.5199995e+00,  4.0199995e+00,  1.1700001e+00],\n",
       "       [-9.9990000e+03, -9.9990000e+03, -9.9990000e+03,  8.2645035e+00,\n",
       "         7.9280996e+00,  7.3801746e+00,  6.8458862e+00,  6.1966438e+00,\n",
       "         5.6441259e+00,  5.1628733e+00,  4.3464622e+00,  4.1422777e+00,\n",
       "         3.6699991e+00,  3.1500006e+00, -9.9990000e+03],\n",
       "       [-9.9990000e+03, -9.9990000e+03, -9.9990000e+03, -9.9990000e+03,\n",
       "         7.0699997e+00,  6.3999996e+00,  5.9200001e+00,  5.8599997e+00,\n",
       "         5.0199995e+00,  4.3100004e+00,  3.7840319e+00,  3.3046780e+00,\n",
       "         2.3000002e+00, -9.9990000e+03, -9.9990000e+03],\n",
       "       [-9.9990000e+03, -9.9990000e+03, -9.9990000e+03, -9.9990000e+03,\n",
       "         6.0100012e+00,  5.4700003e+00,  5.4100008e+00,  6.2200003e+00,\n",
       "         5.4800005e+00,  4.6400013e+00,  3.7700005e+00,  2.9699993e+00,\n",
       "        -9.9990000e+03, -9.9990000e+03, -9.9990000e+03],\n",
       "       [-9.9990000e+03, -9.9990000e+03, -9.9990000e+03, -9.9990000e+03,\n",
       "        -9.9990000e+03,  4.6599998e+00,  4.8800001e+00,  5.7600012e+00,\n",
       "         6.0199995e+00,  5.1400003e+00,  4.2799997e+00,  3.1700001e+00,\n",
       "        -9.9990000e+03, -9.9990000e+03, -9.9990000e+03],\n",
       "       [-9.9990000e+03, -9.9990000e+03, -9.9990000e+03, -9.9990000e+03,\n",
       "        -9.9990000e+03, -9.9990000e+03,  4.3899994e+00,  5.2600002e+00,\n",
       "         6.0900002e+00,  5.6999998e+00,  4.8200006e+00,  3.9600000e+00,\n",
       "         1.2200003e+00, -9.9990000e+03, -9.9990000e+03],\n",
       "       [-9.9990000e+03, -9.9990000e+03, -9.9990000e+03, -9.9990000e+03,\n",
       "        -9.9990000e+03,  2.8199997e+00,  3.9199991e+00,  4.6899996e+00,\n",
       "         5.5800009e+00,  6.1700010e+00,  5.3300009e+00, -9.9990000e+03,\n",
       "        -9.9990000e+03, -9.9990000e+03, -9.9990000e+03],\n",
       "       [-9.9990000e+03, -9.9990000e+03, -9.9990000e+03, -9.9990000e+03,\n",
       "        -9.9990000e+03, -9.9990000e+03,  3.3899994e+00,  4.1800003e+00,\n",
       "         5.0500002e+00, -9.9990000e+03, -9.9990000e+03, -9.9990000e+03,\n",
       "        -9.9990000e+03, -9.9990000e+03, -9.9990000e+03],\n",
       "       [-9.9990000e+03, -9.9990000e+03, -9.9990000e+03, -9.9990000e+03,\n",
       "        -9.9990000e+03, -9.9990000e+03, -9.9990000e+03,  2.4899998e+00,\n",
       "        -9.9990000e+03, -9.9990000e+03, -9.9990000e+03, -9.9990000e+03,\n",
       "        -9.9990000e+03, -9.9990000e+03, -9.9990000e+03]], dtype=float32)"
      ]
     },
     "execution_count": 14,
     "metadata": {},
     "output_type": "execute_result"
    }
   ],
   "source": []
  },
  {
   "cell_type": "code",
   "execution_count": null,
   "metadata": {},
   "outputs": [],
   "source": []
  }
 ],
 "metadata": {
  "kernelspec": {
   "display_name": "Python 3",
   "language": "python",
   "name": "python3"
  },
  "language_info": {
   "codemirror_mode": {
    "name": "ipython",
    "version": 3
   },
   "file_extension": ".py",
   "mimetype": "text/x-python",
   "name": "python",
   "nbconvert_exporter": "python",
   "pygments_lexer": "ipython3",
   "version": "3.8.5"
  }
 },
 "nbformat": 4,
 "nbformat_minor": 5
}
